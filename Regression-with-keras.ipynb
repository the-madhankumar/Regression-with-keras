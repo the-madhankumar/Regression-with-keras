{
 "cells": [
  {
   "cell_type": "code",
   "execution_count": 1,
   "metadata": {
    "tags": []
   },
   "outputs": [],
   "source": [
    "#REGRESSION IN KERAS"
   ]
  },
  {
   "cell_type": "code",
   "execution_count": 2,
   "metadata": {
    "tags": []
   },
   "outputs": [],
   "source": [
    "import pandas as pd\n",
    "import numpy as np"
   ]
  },
  {
   "cell_type": "code",
   "execution_count": 3,
   "metadata": {
    "tags": []
   },
   "outputs": [
    {
     "data": {
      "text/html": [
       "<div>\n",
       "<style scoped>\n",
       "    .dataframe tbody tr th:only-of-type {\n",
       "        vertical-align: middle;\n",
       "    }\n",
       "\n",
       "    .dataframe tbody tr th {\n",
       "        vertical-align: top;\n",
       "    }\n",
       "\n",
       "    .dataframe thead th {\n",
       "        text-align: right;\n",
       "    }\n",
       "</style>\n",
       "<table border=\"1\" class=\"dataframe\">\n",
       "  <thead>\n",
       "    <tr style=\"text-align: right;\">\n",
       "      <th></th>\n",
       "      <th>Cement</th>\n",
       "      <th>Blast Furnace Slag</th>\n",
       "      <th>Fly Ash</th>\n",
       "      <th>Water</th>\n",
       "      <th>Superplasticizer</th>\n",
       "      <th>Coarse Aggregate</th>\n",
       "      <th>Fine Aggregate</th>\n",
       "      <th>Age</th>\n",
       "      <th>Strength</th>\n",
       "    </tr>\n",
       "  </thead>\n",
       "  <tbody>\n",
       "    <tr>\n",
       "      <th>0</th>\n",
       "      <td>540.0</td>\n",
       "      <td>0.0</td>\n",
       "      <td>0.0</td>\n",
       "      <td>162.0</td>\n",
       "      <td>2.5</td>\n",
       "      <td>1040.0</td>\n",
       "      <td>676.0</td>\n",
       "      <td>28</td>\n",
       "      <td>79.99</td>\n",
       "    </tr>\n",
       "    <tr>\n",
       "      <th>1</th>\n",
       "      <td>540.0</td>\n",
       "      <td>0.0</td>\n",
       "      <td>0.0</td>\n",
       "      <td>162.0</td>\n",
       "      <td>2.5</td>\n",
       "      <td>1055.0</td>\n",
       "      <td>676.0</td>\n",
       "      <td>28</td>\n",
       "      <td>61.89</td>\n",
       "    </tr>\n",
       "    <tr>\n",
       "      <th>2</th>\n",
       "      <td>332.5</td>\n",
       "      <td>142.5</td>\n",
       "      <td>0.0</td>\n",
       "      <td>228.0</td>\n",
       "      <td>0.0</td>\n",
       "      <td>932.0</td>\n",
       "      <td>594.0</td>\n",
       "      <td>270</td>\n",
       "      <td>40.27</td>\n",
       "    </tr>\n",
       "    <tr>\n",
       "      <th>3</th>\n",
       "      <td>332.5</td>\n",
       "      <td>142.5</td>\n",
       "      <td>0.0</td>\n",
       "      <td>228.0</td>\n",
       "      <td>0.0</td>\n",
       "      <td>932.0</td>\n",
       "      <td>594.0</td>\n",
       "      <td>365</td>\n",
       "      <td>41.05</td>\n",
       "    </tr>\n",
       "    <tr>\n",
       "      <th>4</th>\n",
       "      <td>198.6</td>\n",
       "      <td>132.4</td>\n",
       "      <td>0.0</td>\n",
       "      <td>192.0</td>\n",
       "      <td>0.0</td>\n",
       "      <td>978.4</td>\n",
       "      <td>825.5</td>\n",
       "      <td>360</td>\n",
       "      <td>44.30</td>\n",
       "    </tr>\n",
       "  </tbody>\n",
       "</table>\n",
       "</div>"
      ],
      "text/plain": [
       "   Cement  Blast Furnace Slag  Fly Ash  Water  Superplasticizer  \\\n",
       "0   540.0                 0.0      0.0  162.0               2.5   \n",
       "1   540.0                 0.0      0.0  162.0               2.5   \n",
       "2   332.5               142.5      0.0  228.0               0.0   \n",
       "3   332.5               142.5      0.0  228.0               0.0   \n",
       "4   198.6               132.4      0.0  192.0               0.0   \n",
       "\n",
       "   Coarse Aggregate  Fine Aggregate  Age  Strength  \n",
       "0            1040.0           676.0   28     79.99  \n",
       "1            1055.0           676.0   28     61.89  \n",
       "2             932.0           594.0  270     40.27  \n",
       "3             932.0           594.0  365     41.05  \n",
       "4             978.4           825.5  360     44.30  "
      ]
     },
     "execution_count": 3,
     "metadata": {},
     "output_type": "execute_result"
    }
   ],
   "source": [
    "concrete_data = pd.read_csv('https://s3-api.us-geo.objectstorage.softlayer.net/cf-courses-data/CognitiveClass/DL0101EN/labs/data/concrete_data.csv')\n",
    "concrete_data.head()"
   ]
  },
  {
   "cell_type": "code",
   "execution_count": 4,
   "metadata": {
    "tags": []
   },
   "outputs": [
    {
     "data": {
      "text/plain": [
       "(1030, 9)"
      ]
     },
     "execution_count": 4,
     "metadata": {},
     "output_type": "execute_result"
    }
   ],
   "source": [
    "concrete_data.shape"
   ]
  },
  {
   "cell_type": "code",
   "execution_count": 5,
   "metadata": {
    "tags": []
   },
   "outputs": [
    {
     "data": {
      "text/html": [
       "<div>\n",
       "<style scoped>\n",
       "    .dataframe tbody tr th:only-of-type {\n",
       "        vertical-align: middle;\n",
       "    }\n",
       "\n",
       "    .dataframe tbody tr th {\n",
       "        vertical-align: top;\n",
       "    }\n",
       "\n",
       "    .dataframe thead th {\n",
       "        text-align: right;\n",
       "    }\n",
       "</style>\n",
       "<table border=\"1\" class=\"dataframe\">\n",
       "  <thead>\n",
       "    <tr style=\"text-align: right;\">\n",
       "      <th></th>\n",
       "      <th>Cement</th>\n",
       "      <th>Blast Furnace Slag</th>\n",
       "      <th>Fly Ash</th>\n",
       "      <th>Water</th>\n",
       "      <th>Superplasticizer</th>\n",
       "      <th>Coarse Aggregate</th>\n",
       "      <th>Fine Aggregate</th>\n",
       "      <th>Age</th>\n",
       "      <th>Strength</th>\n",
       "    </tr>\n",
       "  </thead>\n",
       "  <tbody>\n",
       "    <tr>\n",
       "      <th>count</th>\n",
       "      <td>1030.000000</td>\n",
       "      <td>1030.000000</td>\n",
       "      <td>1030.000000</td>\n",
       "      <td>1030.000000</td>\n",
       "      <td>1030.000000</td>\n",
       "      <td>1030.000000</td>\n",
       "      <td>1030.000000</td>\n",
       "      <td>1030.000000</td>\n",
       "      <td>1030.000000</td>\n",
       "    </tr>\n",
       "    <tr>\n",
       "      <th>mean</th>\n",
       "      <td>281.167864</td>\n",
       "      <td>73.895825</td>\n",
       "      <td>54.188350</td>\n",
       "      <td>181.567282</td>\n",
       "      <td>6.204660</td>\n",
       "      <td>972.918932</td>\n",
       "      <td>773.580485</td>\n",
       "      <td>45.662136</td>\n",
       "      <td>35.817961</td>\n",
       "    </tr>\n",
       "    <tr>\n",
       "      <th>std</th>\n",
       "      <td>104.506364</td>\n",
       "      <td>86.279342</td>\n",
       "      <td>63.997004</td>\n",
       "      <td>21.354219</td>\n",
       "      <td>5.973841</td>\n",
       "      <td>77.753954</td>\n",
       "      <td>80.175980</td>\n",
       "      <td>63.169912</td>\n",
       "      <td>16.705742</td>\n",
       "    </tr>\n",
       "    <tr>\n",
       "      <th>min</th>\n",
       "      <td>102.000000</td>\n",
       "      <td>0.000000</td>\n",
       "      <td>0.000000</td>\n",
       "      <td>121.800000</td>\n",
       "      <td>0.000000</td>\n",
       "      <td>801.000000</td>\n",
       "      <td>594.000000</td>\n",
       "      <td>1.000000</td>\n",
       "      <td>2.330000</td>\n",
       "    </tr>\n",
       "    <tr>\n",
       "      <th>25%</th>\n",
       "      <td>192.375000</td>\n",
       "      <td>0.000000</td>\n",
       "      <td>0.000000</td>\n",
       "      <td>164.900000</td>\n",
       "      <td>0.000000</td>\n",
       "      <td>932.000000</td>\n",
       "      <td>730.950000</td>\n",
       "      <td>7.000000</td>\n",
       "      <td>23.710000</td>\n",
       "    </tr>\n",
       "    <tr>\n",
       "      <th>50%</th>\n",
       "      <td>272.900000</td>\n",
       "      <td>22.000000</td>\n",
       "      <td>0.000000</td>\n",
       "      <td>185.000000</td>\n",
       "      <td>6.400000</td>\n",
       "      <td>968.000000</td>\n",
       "      <td>779.500000</td>\n",
       "      <td>28.000000</td>\n",
       "      <td>34.445000</td>\n",
       "    </tr>\n",
       "    <tr>\n",
       "      <th>75%</th>\n",
       "      <td>350.000000</td>\n",
       "      <td>142.950000</td>\n",
       "      <td>118.300000</td>\n",
       "      <td>192.000000</td>\n",
       "      <td>10.200000</td>\n",
       "      <td>1029.400000</td>\n",
       "      <td>824.000000</td>\n",
       "      <td>56.000000</td>\n",
       "      <td>46.135000</td>\n",
       "    </tr>\n",
       "    <tr>\n",
       "      <th>max</th>\n",
       "      <td>540.000000</td>\n",
       "      <td>359.400000</td>\n",
       "      <td>200.100000</td>\n",
       "      <td>247.000000</td>\n",
       "      <td>32.200000</td>\n",
       "      <td>1145.000000</td>\n",
       "      <td>992.600000</td>\n",
       "      <td>365.000000</td>\n",
       "      <td>82.600000</td>\n",
       "    </tr>\n",
       "  </tbody>\n",
       "</table>\n",
       "</div>"
      ],
      "text/plain": [
       "            Cement  Blast Furnace Slag      Fly Ash        Water  \\\n",
       "count  1030.000000         1030.000000  1030.000000  1030.000000   \n",
       "mean    281.167864           73.895825    54.188350   181.567282   \n",
       "std     104.506364           86.279342    63.997004    21.354219   \n",
       "min     102.000000            0.000000     0.000000   121.800000   \n",
       "25%     192.375000            0.000000     0.000000   164.900000   \n",
       "50%     272.900000           22.000000     0.000000   185.000000   \n",
       "75%     350.000000          142.950000   118.300000   192.000000   \n",
       "max     540.000000          359.400000   200.100000   247.000000   \n",
       "\n",
       "       Superplasticizer  Coarse Aggregate  Fine Aggregate          Age  \\\n",
       "count       1030.000000       1030.000000     1030.000000  1030.000000   \n",
       "mean           6.204660        972.918932      773.580485    45.662136   \n",
       "std            5.973841         77.753954       80.175980    63.169912   \n",
       "min            0.000000        801.000000      594.000000     1.000000   \n",
       "25%            0.000000        932.000000      730.950000     7.000000   \n",
       "50%            6.400000        968.000000      779.500000    28.000000   \n",
       "75%           10.200000       1029.400000      824.000000    56.000000   \n",
       "max           32.200000       1145.000000      992.600000   365.000000   \n",
       "\n",
       "          Strength  \n",
       "count  1030.000000  \n",
       "mean     35.817961  \n",
       "std      16.705742  \n",
       "min       2.330000  \n",
       "25%      23.710000  \n",
       "50%      34.445000  \n",
       "75%      46.135000  \n",
       "max      82.600000  "
      ]
     },
     "execution_count": 5,
     "metadata": {},
     "output_type": "execute_result"
    }
   ],
   "source": [
    "concrete_data.describe()"
   ]
  },
  {
   "cell_type": "code",
   "execution_count": 6,
   "metadata": {
    "tags": []
   },
   "outputs": [
    {
     "data": {
      "text/plain": [
       "Cement                0\n",
       "Blast Furnace Slag    0\n",
       "Fly Ash               0\n",
       "Water                 0\n",
       "Superplasticizer      0\n",
       "Coarse Aggregate      0\n",
       "Fine Aggregate        0\n",
       "Age                   0\n",
       "Strength              0\n",
       "dtype: int64"
      ]
     },
     "execution_count": 6,
     "metadata": {},
     "output_type": "execute_result"
    }
   ],
   "source": [
    "concrete_data.isnull().sum()"
   ]
  },
  {
   "cell_type": "markdown",
   "metadata": {},
   "source": [
    "#### Split data into predictors and target\n"
   ]
  },
  {
   "cell_type": "code",
   "execution_count": 7,
   "metadata": {
    "tags": []
   },
   "outputs": [],
   "source": [
    "concrete_data_columns = concrete_data.columns\n",
    "\n",
    "predictors = concrete_data.drop(\"Strength\", axis=1)  # Specify the column name and axis\n",
    "target = concrete_data['Strength']  # Strength column\n"
   ]
  },
  {
   "cell_type": "markdown",
   "metadata": {},
   "source": [
    "<a id=\"item2\"></a>\n"
   ]
  },
  {
   "cell_type": "code",
   "execution_count": 8,
   "metadata": {
    "tags": []
   },
   "outputs": [
    {
     "data": {
      "text/html": [
       "<div>\n",
       "<style scoped>\n",
       "    .dataframe tbody tr th:only-of-type {\n",
       "        vertical-align: middle;\n",
       "    }\n",
       "\n",
       "    .dataframe tbody tr th {\n",
       "        vertical-align: top;\n",
       "    }\n",
       "\n",
       "    .dataframe thead th {\n",
       "        text-align: right;\n",
       "    }\n",
       "</style>\n",
       "<table border=\"1\" class=\"dataframe\">\n",
       "  <thead>\n",
       "    <tr style=\"text-align: right;\">\n",
       "      <th></th>\n",
       "      <th>Cement</th>\n",
       "      <th>Blast Furnace Slag</th>\n",
       "      <th>Fly Ash</th>\n",
       "      <th>Water</th>\n",
       "      <th>Superplasticizer</th>\n",
       "      <th>Coarse Aggregate</th>\n",
       "      <th>Fine Aggregate</th>\n",
       "      <th>Age</th>\n",
       "    </tr>\n",
       "  </thead>\n",
       "  <tbody>\n",
       "    <tr>\n",
       "      <th>0</th>\n",
       "      <td>540.0</td>\n",
       "      <td>0.0</td>\n",
       "      <td>0.0</td>\n",
       "      <td>162.0</td>\n",
       "      <td>2.5</td>\n",
       "      <td>1040.0</td>\n",
       "      <td>676.0</td>\n",
       "      <td>28</td>\n",
       "    </tr>\n",
       "    <tr>\n",
       "      <th>1</th>\n",
       "      <td>540.0</td>\n",
       "      <td>0.0</td>\n",
       "      <td>0.0</td>\n",
       "      <td>162.0</td>\n",
       "      <td>2.5</td>\n",
       "      <td>1055.0</td>\n",
       "      <td>676.0</td>\n",
       "      <td>28</td>\n",
       "    </tr>\n",
       "    <tr>\n",
       "      <th>2</th>\n",
       "      <td>332.5</td>\n",
       "      <td>142.5</td>\n",
       "      <td>0.0</td>\n",
       "      <td>228.0</td>\n",
       "      <td>0.0</td>\n",
       "      <td>932.0</td>\n",
       "      <td>594.0</td>\n",
       "      <td>270</td>\n",
       "    </tr>\n",
       "    <tr>\n",
       "      <th>3</th>\n",
       "      <td>332.5</td>\n",
       "      <td>142.5</td>\n",
       "      <td>0.0</td>\n",
       "      <td>228.0</td>\n",
       "      <td>0.0</td>\n",
       "      <td>932.0</td>\n",
       "      <td>594.0</td>\n",
       "      <td>365</td>\n",
       "    </tr>\n",
       "    <tr>\n",
       "      <th>4</th>\n",
       "      <td>198.6</td>\n",
       "      <td>132.4</td>\n",
       "      <td>0.0</td>\n",
       "      <td>192.0</td>\n",
       "      <td>0.0</td>\n",
       "      <td>978.4</td>\n",
       "      <td>825.5</td>\n",
       "      <td>360</td>\n",
       "    </tr>\n",
       "  </tbody>\n",
       "</table>\n",
       "</div>"
      ],
      "text/plain": [
       "   Cement  Blast Furnace Slag  Fly Ash  Water  Superplasticizer  \\\n",
       "0   540.0                 0.0      0.0  162.0               2.5   \n",
       "1   540.0                 0.0      0.0  162.0               2.5   \n",
       "2   332.5               142.5      0.0  228.0               0.0   \n",
       "3   332.5               142.5      0.0  228.0               0.0   \n",
       "4   198.6               132.4      0.0  192.0               0.0   \n",
       "\n",
       "   Coarse Aggregate  Fine Aggregate  Age  \n",
       "0            1040.0           676.0   28  \n",
       "1            1055.0           676.0   28  \n",
       "2             932.0           594.0  270  \n",
       "3             932.0           594.0  365  \n",
       "4             978.4           825.5  360  "
      ]
     },
     "execution_count": 8,
     "metadata": {},
     "output_type": "execute_result"
    }
   ],
   "source": [
    "predictors.head()"
   ]
  },
  {
   "cell_type": "code",
   "execution_count": 9,
   "metadata": {
    "tags": []
   },
   "outputs": [
    {
     "data": {
      "text/plain": [
       "0    79.99\n",
       "1    61.89\n",
       "2    40.27\n",
       "3    41.05\n",
       "4    44.30\n",
       "Name: Strength, dtype: float64"
      ]
     },
     "execution_count": 9,
     "metadata": {},
     "output_type": "execute_result"
    }
   ],
   "source": [
    "target.head()"
   ]
  },
  {
   "cell_type": "code",
   "execution_count": 10,
   "metadata": {
    "tags": []
   },
   "outputs": [
    {
     "data": {
      "text/html": [
       "<div>\n",
       "<style scoped>\n",
       "    .dataframe tbody tr th:only-of-type {\n",
       "        vertical-align: middle;\n",
       "    }\n",
       "\n",
       "    .dataframe tbody tr th {\n",
       "        vertical-align: top;\n",
       "    }\n",
       "\n",
       "    .dataframe thead th {\n",
       "        text-align: right;\n",
       "    }\n",
       "</style>\n",
       "<table border=\"1\" class=\"dataframe\">\n",
       "  <thead>\n",
       "    <tr style=\"text-align: right;\">\n",
       "      <th></th>\n",
       "      <th>Cement</th>\n",
       "      <th>Blast Furnace Slag</th>\n",
       "      <th>Fly Ash</th>\n",
       "      <th>Water</th>\n",
       "      <th>Superplasticizer</th>\n",
       "      <th>Coarse Aggregate</th>\n",
       "      <th>Fine Aggregate</th>\n",
       "      <th>Age</th>\n",
       "    </tr>\n",
       "  </thead>\n",
       "  <tbody>\n",
       "    <tr>\n",
       "      <th>0</th>\n",
       "      <td>2.476712</td>\n",
       "      <td>-0.856472</td>\n",
       "      <td>-0.846733</td>\n",
       "      <td>-0.916319</td>\n",
       "      <td>-0.620147</td>\n",
       "      <td>0.862735</td>\n",
       "      <td>-1.217079</td>\n",
       "      <td>-0.279597</td>\n",
       "    </tr>\n",
       "    <tr>\n",
       "      <th>1</th>\n",
       "      <td>2.476712</td>\n",
       "      <td>-0.856472</td>\n",
       "      <td>-0.846733</td>\n",
       "      <td>-0.916319</td>\n",
       "      <td>-0.620147</td>\n",
       "      <td>1.055651</td>\n",
       "      <td>-1.217079</td>\n",
       "      <td>-0.279597</td>\n",
       "    </tr>\n",
       "    <tr>\n",
       "      <th>2</th>\n",
       "      <td>0.491187</td>\n",
       "      <td>0.795140</td>\n",
       "      <td>-0.846733</td>\n",
       "      <td>2.174405</td>\n",
       "      <td>-1.038638</td>\n",
       "      <td>-0.526262</td>\n",
       "      <td>-2.239829</td>\n",
       "      <td>3.551340</td>\n",
       "    </tr>\n",
       "    <tr>\n",
       "      <th>3</th>\n",
       "      <td>0.491187</td>\n",
       "      <td>0.795140</td>\n",
       "      <td>-0.846733</td>\n",
       "      <td>2.174405</td>\n",
       "      <td>-1.038638</td>\n",
       "      <td>-0.526262</td>\n",
       "      <td>-2.239829</td>\n",
       "      <td>5.055221</td>\n",
       "    </tr>\n",
       "    <tr>\n",
       "      <th>4</th>\n",
       "      <td>-0.790075</td>\n",
       "      <td>0.678079</td>\n",
       "      <td>-0.846733</td>\n",
       "      <td>0.488555</td>\n",
       "      <td>-1.038638</td>\n",
       "      <td>0.070492</td>\n",
       "      <td>0.647569</td>\n",
       "      <td>4.976069</td>\n",
       "    </tr>\n",
       "  </tbody>\n",
       "</table>\n",
       "</div>"
      ],
      "text/plain": [
       "     Cement  Blast Furnace Slag   Fly Ash     Water  Superplasticizer  \\\n",
       "0  2.476712           -0.856472 -0.846733 -0.916319         -0.620147   \n",
       "1  2.476712           -0.856472 -0.846733 -0.916319         -0.620147   \n",
       "2  0.491187            0.795140 -0.846733  2.174405         -1.038638   \n",
       "3  0.491187            0.795140 -0.846733  2.174405         -1.038638   \n",
       "4 -0.790075            0.678079 -0.846733  0.488555         -1.038638   \n",
       "\n",
       "   Coarse Aggregate  Fine Aggregate       Age  \n",
       "0          0.862735       -1.217079 -0.279597  \n",
       "1          1.055651       -1.217079 -0.279597  \n",
       "2         -0.526262       -2.239829  3.551340  \n",
       "3         -0.526262       -2.239829  5.055221  \n",
       "4          0.070492        0.647569  4.976069  "
      ]
     },
     "execution_count": 10,
     "metadata": {},
     "output_type": "execute_result"
    }
   ],
   "source": [
    "predictors_norm = (predictors - predictors.mean()) / predictors.std()\n",
    "predictors_norm.head()"
   ]
  },
  {
   "cell_type": "code",
   "execution_count": 11,
   "metadata": {
    "tags": []
   },
   "outputs": [],
   "source": [
    "n_cols = predictors_norm.shape[1] # number of predictors"
   ]
  },
  {
   "cell_type": "code",
   "execution_count": 12,
   "metadata": {},
   "outputs": [],
   "source": [
    "from sklearn.model_selection import train_test_split\n",
    "\n",
    "X_train, X_test, y_train, y_test = train_test_split(predictors_norm, target, test_size=0.3, random_state=42)"
   ]
  },
  {
   "cell_type": "markdown",
   "metadata": {},
   "source": [
    "<a id=\"item1\"></a>\n"
   ]
  },
  {
   "cell_type": "markdown",
   "metadata": {},
   "source": [
    "<a id='item32'></a>\n"
   ]
  },
  {
   "cell_type": "markdown",
   "metadata": {},
   "source": [
    "## Import Keras\n"
   ]
  },
  {
   "cell_type": "markdown",
   "metadata": {},
   "source": [
    "#### Let's go ahead and import the Keras library\n"
   ]
  },
  {
   "cell_type": "code",
   "execution_count": 13,
   "metadata": {
    "tags": []
   },
   "outputs": [],
   "source": [
    "import keras"
   ]
  },
  {
   "cell_type": "code",
   "execution_count": 14,
   "metadata": {
    "tags": []
   },
   "outputs": [],
   "source": [
    "from keras.models import Sequential\n",
    "from keras.layers import Dense"
   ]
  },
  {
   "cell_type": "markdown",
   "metadata": {},
   "source": [
    "<a id='item33'></a>\n"
   ]
  },
  {
   "cell_type": "markdown",
   "metadata": {},
   "source": [
    "## Build a Neural Network\n"
   ]
  },
  {
   "cell_type": "markdown",
   "metadata": {},
   "source": [
    "Let's define a function that defines our regression model for us so that we can conveniently call it to create our model.\n"
   ]
  },
  {
   "cell_type": "code",
   "execution_count": 15,
   "metadata": {
    "tags": []
   },
   "outputs": [],
   "source": [
    "# define regression model\n",
    "def regression_model():\n",
    "    # create model\n",
    "    model = Sequential()\n",
    "    model.add(Dense(10, activation='relu', input_shape=(n_cols,)))\n",
    "    model.add(Dense(1))\n",
    "    \n",
    "    # compile model\n",
    "    model.compile(optimizer='adam', loss='mean_squared_error')\n",
    "    return model"
   ]
  },
  {
   "cell_type": "markdown",
   "metadata": {},
   "source": [
    "<a id=\"item4\"></a>\n"
   ]
  },
  {
   "cell_type": "markdown",
   "metadata": {},
   "source": [
    "<a id='item34'></a>\n"
   ]
  },
  {
   "cell_type": "markdown",
   "metadata": {},
   "source": [
    "## Train and Test the Network\n"
   ]
  },
  {
   "cell_type": "markdown",
   "metadata": {},
   "source": [
    "Let's call the function now to create our model.\n"
   ]
  },
  {
   "cell_type": "code",
   "execution_count": 16,
   "metadata": {
    "tags": []
   },
   "outputs": [],
   "source": [
    "# build the model\n",
    "model = regression_model()"
   ]
  },
  {
   "cell_type": "code",
   "execution_count": 17,
   "metadata": {
    "tags": []
   },
   "outputs": [
    {
     "name": "stdout",
     "output_type": "stream",
     "text": [
      "Epoch 1/50\n",
      "23/23 - 0s - loss: 1691.5730 - val_loss: 1221.9548 - 449ms/epoch - 20ms/step\n",
      "Epoch 2/50\n",
      "23/23 - 0s - loss: 1677.4341 - val_loss: 1210.6660 - 54ms/epoch - 2ms/step\n",
      "Epoch 3/50\n",
      "23/23 - 0s - loss: 1662.7023 - val_loss: 1199.2921 - 62ms/epoch - 3ms/step\n",
      "Epoch 4/50\n",
      "23/23 - 0s - loss: 1647.4137 - val_loss: 1187.1844 - 47ms/epoch - 2ms/step\n",
      "Epoch 5/50\n",
      "23/23 - 0s - loss: 1630.9625 - val_loss: 1174.5035 - 47ms/epoch - 2ms/step\n",
      "Epoch 6/50\n",
      "23/23 - 0s - loss: 1613.1614 - val_loss: 1160.8529 - 63ms/epoch - 3ms/step\n",
      "Epoch 7/50\n",
      "23/23 - 0s - loss: 1593.5234 - val_loss: 1146.0073 - 47ms/epoch - 2ms/step\n",
      "Epoch 8/50\n",
      "23/23 - 0s - loss: 1572.1960 - val_loss: 1129.7891 - 47ms/epoch - 2ms/step\n",
      "Epoch 9/50\n",
      "23/23 - 0s - loss: 1548.6094 - val_loss: 1112.5220 - 47ms/epoch - 2ms/step\n",
      "Epoch 10/50\n",
      "23/23 - 0s - loss: 1522.5933 - val_loss: 1094.1530 - 52ms/epoch - 2ms/step\n",
      "Epoch 11/50\n",
      "23/23 - 0s - loss: 1494.7905 - val_loss: 1073.9272 - 47ms/epoch - 2ms/step\n",
      "Epoch 12/50\n",
      "23/23 - 0s - loss: 1464.1775 - val_loss: 1052.6743 - 62ms/epoch - 3ms/step\n",
      "Epoch 13/50\n",
      "23/23 - 0s - loss: 1430.7935 - val_loss: 1030.1238 - 47ms/epoch - 2ms/step\n",
      "Epoch 14/50\n",
      "23/23 - 0s - loss: 1395.1187 - val_loss: 1006.7777 - 47ms/epoch - 2ms/step\n",
      "Epoch 15/50\n",
      "23/23 - 0s - loss: 1357.3831 - val_loss: 981.7717 - 47ms/epoch - 2ms/step\n",
      "Epoch 16/50\n",
      "23/23 - 0s - loss: 1317.7274 - val_loss: 956.1290 - 48ms/epoch - 2ms/step\n",
      "Epoch 17/50\n",
      "23/23 - 0s - loss: 1275.9442 - val_loss: 930.0237 - 46ms/epoch - 2ms/step\n",
      "Epoch 18/50\n",
      "23/23 - 0s - loss: 1233.3159 - val_loss: 903.2975 - 47ms/epoch - 2ms/step\n",
      "Epoch 19/50\n",
      "23/23 - 0s - loss: 1188.9998 - val_loss: 875.9928 - 47ms/epoch - 2ms/step\n",
      "Epoch 20/50\n",
      "23/23 - 0s - loss: 1144.9425 - val_loss: 847.5510 - 47ms/epoch - 2ms/step\n",
      "Epoch 21/50\n",
      "23/23 - 0s - loss: 1100.2216 - val_loss: 819.5747 - 63ms/epoch - 3ms/step\n",
      "Epoch 22/50\n",
      "23/23 - 0s - loss: 1055.0291 - val_loss: 791.6915 - 47ms/epoch - 2ms/step\n",
      "Epoch 23/50\n",
      "23/23 - 0s - loss: 1011.0535 - val_loss: 763.9673 - 47ms/epoch - 2ms/step\n",
      "Epoch 24/50\n",
      "23/23 - 0s - loss: 967.0972 - val_loss: 736.2440 - 94ms/epoch - 4ms/step\n",
      "Epoch 25/50\n",
      "23/23 - 0s - loss: 923.8630 - val_loss: 708.6685 - 47ms/epoch - 2ms/step\n",
      "Epoch 26/50\n",
      "23/23 - 0s - loss: 881.9612 - val_loss: 680.8640 - 47ms/epoch - 2ms/step\n",
      "Epoch 27/50\n",
      "23/23 - 0s - loss: 840.8610 - val_loss: 654.6504 - 63ms/epoch - 3ms/step\n",
      "Epoch 28/50\n",
      "23/23 - 0s - loss: 801.5175 - val_loss: 628.2502 - 47ms/epoch - 2ms/step\n",
      "Epoch 29/50\n",
      "23/23 - 0s - loss: 763.2230 - val_loss: 603.3490 - 47ms/epoch - 2ms/step\n",
      "Epoch 30/50\n",
      "23/23 - 0s - loss: 726.6107 - val_loss: 578.7582 - 63ms/epoch - 3ms/step\n",
      "Epoch 31/50\n",
      "23/23 - 0s - loss: 691.1220 - val_loss: 555.3609 - 48ms/epoch - 2ms/step\n",
      "Epoch 32/50\n",
      "23/23 - 0s - loss: 658.0143 - val_loss: 531.9370 - 46ms/epoch - 2ms/step\n",
      "Epoch 33/50\n",
      "23/23 - 0s - loss: 625.8992 - val_loss: 509.9376 - 47ms/epoch - 2ms/step\n",
      "Epoch 34/50\n",
      "23/23 - 0s - loss: 595.7721 - val_loss: 489.0177 - 47ms/epoch - 2ms/step\n",
      "Epoch 35/50\n",
      "23/23 - 0s - loss: 567.3855 - val_loss: 468.3080 - 63ms/epoch - 3ms/step\n",
      "Epoch 36/50\n",
      "23/23 - 0s - loss: 540.1776 - val_loss: 449.2599 - 47ms/epoch - 2ms/step\n",
      "Epoch 37/50\n",
      "23/23 - 0s - loss: 514.9045 - val_loss: 430.8044 - 48ms/epoch - 2ms/step\n",
      "Epoch 38/50\n",
      "23/23 - 0s - loss: 490.5460 - val_loss: 413.6502 - 51ms/epoch - 2ms/step\n",
      "Epoch 39/50\n",
      "23/23 - 0s - loss: 468.0045 - val_loss: 397.1817 - 73ms/epoch - 3ms/step\n",
      "Epoch 40/50\n",
      "23/23 - 0s - loss: 446.6812 - val_loss: 381.7894 - 91ms/epoch - 4ms/step\n",
      "Epoch 41/50\n",
      "23/23 - 0s - loss: 426.7079 - val_loss: 367.2317 - 110ms/epoch - 5ms/step\n",
      "Epoch 42/50\n",
      "23/23 - 0s - loss: 407.7564 - val_loss: 354.0339 - 111ms/epoch - 5ms/step\n",
      "Epoch 43/50\n",
      "23/23 - 0s - loss: 390.0346 - val_loss: 341.6796 - 108ms/epoch - 5ms/step\n",
      "Epoch 44/50\n",
      "23/23 - 0s - loss: 373.6877 - val_loss: 329.7291 - 106ms/epoch - 5ms/step\n",
      "Epoch 45/50\n",
      "23/23 - 0s - loss: 358.2791 - val_loss: 319.0994 - 101ms/epoch - 4ms/step\n",
      "Epoch 46/50\n",
      "23/23 - 0s - loss: 343.7289 - val_loss: 309.2047 - 122ms/epoch - 5ms/step\n",
      "Epoch 47/50\n",
      "23/23 - 0s - loss: 330.4477 - val_loss: 299.9185 - 119ms/epoch - 5ms/step\n",
      "Epoch 48/50\n",
      "23/23 - 0s - loss: 317.8990 - val_loss: 292.0763 - 96ms/epoch - 4ms/step\n",
      "Epoch 49/50\n",
      "23/23 - 0s - loss: 306.4124 - val_loss: 284.1972 - 72ms/epoch - 3ms/step\n",
      "Epoch 50/50\n",
      "23/23 - 0s - loss: 295.4869 - val_loss: 276.9723 - 75ms/epoch - 3ms/step\n"
     ]
    },
    {
     "data": {
      "text/plain": [
       "<keras.callbacks.History at 0x23644be78b0>"
      ]
     },
     "execution_count": 17,
     "metadata": {},
     "output_type": "execute_result"
    }
   ],
   "source": [
    "# fit the model\n",
    "model.fit(predictors_norm, target, validation_split=0.3, epochs=50, verbose=2)"
   ]
  },
  {
   "cell_type": "code",
   "execution_count": 18,
   "metadata": {},
   "outputs": [
    {
     "name": "stdout",
     "output_type": "stream",
     "text": [
      "33/33 [==============================] - 0s 2ms/step\n",
      "Mean Squared Error on Test Data: 286.2789578621595\n"
     ]
    }
   ],
   "source": [
    "from sklearn.metrics import mean_squared_error\n",
    "\n",
    "\n",
    "y_pred = model.predict(predictors_norm)\n",
    "\n",
    "mse = mean_squared_error(target, y_pred)\n",
    "\n",
    "print(f'Mean Squared Error on Test Data: {mse}')\n"
   ]
  },
  {
   "cell_type": "code",
   "execution_count": 19,
   "metadata": {},
   "outputs": [
    {
     "name": "stdout",
     "output_type": "stream",
     "text": [
      "33/33 [==============================] - 0s 1ms/step\n",
      "33/33 [==============================] - 0s 870us/step\n",
      "33/33 [==============================] - 0s 986us/step\n",
      "33/33 [==============================] - 0s 1ms/step\n",
      "33/33 [==============================] - 0s 877us/step\n",
      "33/33 [==============================] - 0s 1ms/step\n",
      "33/33 [==============================] - 0s 1ms/step\n",
      "33/33 [==============================] - 0s 1ms/step\n",
      "33/33 [==============================] - 0s 879us/step\n",
      "33/33 [==============================] - 0s 1ms/step\n",
      "33/33 [==============================] - 0s 990us/step\n",
      "33/33 [==============================] - 0s 933us/step\n",
      "33/33 [==============================] - 0s 837us/step\n",
      "33/33 [==============================] - 0s 927us/step\n",
      "33/33 [==============================] - 0s 1ms/step\n",
      "33/33 [==============================] - 0s 2ms/step\n",
      "33/33 [==============================] - 0s 928us/step\n",
      "33/33 [==============================] - 0s 1ms/step\n",
      "33/33 [==============================] - 0s 1ms/step\n",
      "33/33 [==============================] - 0s 1ms/step\n",
      "33/33 [==============================] - 0s 2ms/step\n",
      "33/33 [==============================] - 0s 1ms/step\n",
      "33/33 [==============================] - 0s 1ms/step\n",
      "33/33 [==============================] - 0s 2ms/step\n",
      "33/33 [==============================] - 0s 1ms/step\n",
      "33/33 [==============================] - 0s 2ms/step\n",
      "33/33 [==============================] - 0s 1ms/step\n",
      "33/33 [==============================] - 0s 1ms/step\n",
      "33/33 [==============================] - 0s 1ms/step\n",
      "33/33 [==============================] - 0s 1ms/step\n",
      "33/33 [==============================] - 0s 2ms/step\n",
      "33/33 [==============================] - 0s 2ms/step\n",
      "33/33 [==============================] - 0s 1ms/step\n",
      "33/33 [==============================] - 0s 3ms/step\n",
      "33/33 [==============================] - 0s 2ms/step\n",
      "33/33 [==============================] - 0s 1ms/step\n",
      "33/33 [==============================] - 0s 1ms/step\n",
      "33/33 [==============================] - 0s 2ms/step\n",
      "33/33 [==============================] - 0s 2ms/step\n",
      "33/33 [==============================] - 0s 1ms/step\n",
      "33/33 [==============================] - 0s 1ms/step\n",
      "33/33 [==============================] - 0s 1ms/step\n",
      "33/33 [==============================] - 0s 1ms/step\n",
      "33/33 [==============================] - 0s 1ms/step\n",
      "33/33 [==============================] - 0s 1ms/step\n",
      "33/33 [==============================] - 0s 2ms/step\n",
      "33/33 [==============================] - 0s 1ms/step\n",
      "33/33 [==============================] - 0s 1ms/step\n",
      "33/33 [==============================] - 0s 1ms/step\n",
      "33/33 [==============================] - 0s 2ms/step\n",
      "List of Mean Squared Errors:\n",
      "[200.94596844519842, 173.9957981371978, 186.9156450325377, 459.2817216546765, 239.7571578427234, 182.0444420963924, 224.76494323110626, 240.40506821608776, 188.44375579949912, 202.36399207260527, 225.8555677928005, 209.520081640132, 206.54230571464421, 177.82023000891817, 370.51943220372397, 195.99985265520425, 223.69392088017187, 207.63137589706375, 215.1571119572654, 178.67953780899018, 202.48218043736557, 211.2170830895093, 202.18364791145663, 198.4027033060327, 199.4115317785417, 195.07630581233542, 286.49908843659074, 255.7433390753504, 171.59067473365488, 195.05378657512398, 194.32855741825438, 194.11583348779556, 187.69139720156144, 178.09024785325417, 306.2501744028499, 161.76242060975184, 192.41135943729134, 239.70752089645802, 207.39470383031346, 187.82974451541148, 203.8989075414252, 198.30468532305497, 196.83368362652112, 167.54225482568597, 187.80817414354192, 209.42200156720787, 208.68991470119929, 257.7426222488252, 221.4031948609803, 206.29386302210568]\n",
      "\n",
      "Average Mean Squared Error: 214.71039023512782\n"
     ]
    }
   ],
   "source": [
    "from sklearn.metrics import mean_squared_error\n",
    "import numpy as np\n",
    "\n",
    "num_repetitions = 50\n",
    "\n",
    "mse_list = []\n",
    "\n",
    "for _ in range(num_repetitions):\n",
    "    model = regression_model()\n",
    "    model.fit(predictors_norm, target, epochs=50, verbose=0)  \n",
    "    \n",
    "    y_pred = model.predict(predictors_norm)\n",
    "    \n",
    "    mse = mean_squared_error(target, y_pred)\n",
    "    mse_list.append(mse)\n",
    "\n",
    "print(\"List of Mean Squared Errors:\")\n",
    "print(mse_list)\n",
    "\n",
    "average_mse = np.mean(mse_list)\n",
    "print(f\"\\nAverage Mean Squared Error: {average_mse}\")\n"
   ]
  },
  {
   "cell_type": "code",
   "execution_count": 20,
   "metadata": {},
   "outputs": [
    {
     "name": "stdout",
     "output_type": "stream",
     "text": [
      "Mean of Mean Squared Errors: 214.71039023512782\n",
      "Standard Deviation of Mean Squared Errors: 50.06639939465279\n"
     ]
    }
   ],
   "source": [
    "mse_array = np.array(mse_list)\n",
    "\n",
    "mean_mse = np.mean(mse_array)\n",
    "std_mse = np.std(mse_array)\n",
    "\n",
    "print(f\"Mean of Mean Squared Errors: {mean_mse}\")\n",
    "print(f\"Standard Deviation of Mean Squared Errors: {std_mse}\")"
   ]
  },
  {
   "cell_type": "code",
   "execution_count": 21,
   "metadata": {},
   "outputs": [
    {
     "name": "stdout",
     "output_type": "stream",
     "text": [
      "10/10 [==============================] - 0s 3ms/step\n",
      "10/10 [==============================] - 0s 2ms/step\n",
      "10/10 [==============================] - 0s 1ms/step\n",
      "10/10 [==============================] - 0s 1ms/step\n",
      "10/10 [==============================] - 0s 2ms/step\n",
      "10/10 [==============================] - 0s 1ms/step\n",
      "10/10 [==============================] - 0s 1ms/step\n",
      "10/10 [==============================] - 0s 1ms/step\n",
      "10/10 [==============================] - 0s 2ms/step\n",
      "10/10 [==============================] - 0s 816us/step\n",
      "10/10 [==============================] - 0s 2ms/step\n",
      "10/10 [==============================] - 0s 3ms/step\n",
      "10/10 [==============================] - 0s 1ms/step\n",
      "10/10 [==============================] - 0s 1ms/step\n",
      "10/10 [==============================] - 0s 1ms/step\n",
      "10/10 [==============================] - 0s 1ms/step\n",
      "10/10 [==============================] - 0s 2ms/step\n",
      "10/10 [==============================] - 0s 991us/step\n",
      "10/10 [==============================] - 0s 2ms/step\n",
      "10/10 [==============================] - 0s 1ms/step\n",
      "10/10 [==============================] - 0s 2ms/step\n",
      "10/10 [==============================] - 0s 1ms/step\n",
      "10/10 [==============================] - 0s 2ms/step\n",
      "10/10 [==============================] - 0s 966us/step\n",
      "10/10 [==============================] - 0s 3ms/step\n",
      "10/10 [==============================] - 0s 1ms/step\n",
      "10/10 [==============================] - 0s 741us/step\n",
      "10/10 [==============================] - 0s 1ms/step\n",
      "10/10 [==============================] - 0s 463us/step\n",
      "10/10 [==============================] - 0s 1ms/step\n",
      "10/10 [==============================] - 0s 1ms/step\n",
      "10/10 [==============================] - 0s 2ms/step\n",
      "10/10 [==============================] - 0s 0s/step\n",
      "10/10 [==============================] - 0s 3ms/step\n",
      "10/10 [==============================] - 0s 6ms/step\n",
      "10/10 [==============================] - 0s 2ms/step\n",
      "10/10 [==============================] - 0s 0s/step\n",
      "10/10 [==============================] - 0s 3ms/step\n",
      "10/10 [==============================] - 0s 3ms/step\n",
      "10/10 [==============================] - 0s 2ms/step\n",
      "10/10 [==============================] - 0s 2ms/step\n",
      "10/10 [==============================] - 0s 766us/step\n",
      "10/10 [==============================] - 0s 2ms/step\n",
      "10/10 [==============================] - 0s 1ms/step\n",
      "10/10 [==============================] - 0s 2ms/step\n",
      "10/10 [==============================] - 0s 2ms/step\n",
      "10/10 [==============================] - 0s 2ms/step\n",
      "10/10 [==============================] - 0s 1ms/step\n",
      "10/10 [==============================] - 0s 2ms/step\n",
      "10/10 [==============================] - 0s 4ms/step\n",
      "Mean of Mean Squared Errors (Normalized Data): 612.0053443897091\n",
      "Standard Deviation of Mean Squared Errors (Normalized Data): 122.51274356736876\n"
     ]
    }
   ],
   "source": [
    "from sklearn.preprocessing import StandardScaler\n",
    "from sklearn.model_selection import train_test_split\n",
    "from sklearn.metrics import mean_squared_error\n",
    "from keras.models import Sequential\n",
    "from keras.layers import Dense\n",
    "\n",
    "scaler = StandardScaler()\n",
    "X_train_normalized = scaler.fit_transform(X_train)\n",
    "X_test_normalized = scaler.transform(X_test)\n",
    "\n",
    "num_repetitions = 50\n",
    "\n",
    "mse_list_normalized = []\n",
    "\n",
    "for _ in range(num_repetitions):\n",
    "    model_normalized = Sequential()\n",
    "    model_normalized.add(Dense(10, activation='relu', input_shape=(X_train.shape[1],)))\n",
    "    model_normalized.add(Dense(1))\n",
    "    model_normalized.compile(optimizer='adam', loss='mean_squared_error')\n",
    "    \n",
    "    model_normalized.fit(X_train_normalized, y_train, validation_split=0.3, epochs=50, verbose=0)\n",
    "    \n",
    "    y_pred_normalized = model_normalized.predict(X_test_normalized)\n",
    "    \n",
    "    mse_normalized = mean_squared_error(y_test, y_pred_normalized)\n",
    "    mse_list_normalized.append(mse_normalized)\n",
    "\n",
    "mse_array_normalized = np.array(mse_list_normalized)\n",
    "\n",
    "mean_mse_normalized = np.mean(mse_array_normalized)\n",
    "std_mse_normalized = np.std(mse_array_normalized)\n",
    "\n",
    "print(f\"Mean of Mean Squared Errors (Normalized Data): {mean_mse_normalized}\")\n",
    "print(f\"Standard Deviation of Mean Squared Errors (Normalized Data): {std_mse_normalized}\")\n"
   ]
  },
  {
   "cell_type": "code",
   "execution_count": 22,
   "metadata": {},
   "outputs": [],
   "source": [
    "#PART C"
   ]
  },
  {
   "cell_type": "code",
   "execution_count": 23,
   "metadata": {},
   "outputs": [
    {
     "name": "stdout",
     "output_type": "stream",
     "text": [
      "10/10 [==============================] - 0s 2ms/step\n",
      "10/10 [==============================] - 0s 1ms/step\n",
      "10/10 [==============================] - 0s 1ms/step\n",
      "10/10 [==============================] - 0s 1ms/step\n",
      "10/10 [==============================] - 0s 2ms/step\n",
      "10/10 [==============================] - 0s 2ms/step\n",
      "10/10 [==============================] - 0s 2ms/step\n",
      "10/10 [==============================] - 0s 2ms/step\n",
      "10/10 [==============================] - 0s 0s/step\n",
      "10/10 [==============================] - 0s 1ms/step\n",
      "10/10 [==============================] - 0s 1ms/step\n",
      "10/10 [==============================] - 0s 2ms/step\n",
      "10/10 [==============================] - 0s 1ms/step\n",
      "10/10 [==============================] - 0s 2ms/step\n",
      "10/10 [==============================] - 0s 900us/step\n",
      "10/10 [==============================] - 0s 3ms/step\n",
      "10/10 [==============================] - 0s 1ms/step\n",
      "10/10 [==============================] - 0s 1ms/step\n",
      "10/10 [==============================] - 0s 1ms/step\n",
      "10/10 [==============================] - 0s 3ms/step\n",
      "10/10 [==============================] - 0s 2ms/step\n",
      "10/10 [==============================] - 0s 1ms/step\n",
      "10/10 [==============================] - 0s 1ms/step\n",
      "10/10 [==============================] - 0s 1ms/step\n",
      "10/10 [==============================] - 0s 353us/step\n",
      "10/10 [==============================] - 0s 2ms/step\n",
      "10/10 [==============================] - 0s 1ms/step\n",
      "10/10 [==============================] - 0s 3ms/step\n",
      "10/10 [==============================] - 0s 2ms/step\n",
      "10/10 [==============================] - 0s 1ms/step\n",
      "10/10 [==============================] - 0s 743us/step\n",
      "10/10 [==============================] - 0s 383us/step\n",
      "10/10 [==============================] - 0s 2ms/step\n",
      "10/10 [==============================] - 0s 2ms/step\n",
      "10/10 [==============================] - 0s 2ms/step\n",
      "10/10 [==============================] - 0s 2ms/step\n",
      "10/10 [==============================] - 0s 2ms/step\n",
      "10/10 [==============================] - 0s 2ms/step\n",
      "10/10 [==============================] - 0s 2ms/step\n",
      "10/10 [==============================] - 0s 2ms/step\n",
      "10/10 [==============================] - 0s 1ms/step\n",
      "10/10 [==============================] - 0s 2ms/step\n",
      "10/10 [==============================] - 0s 3ms/step\n",
      "10/10 [==============================] - 0s 2ms/step\n",
      "10/10 [==============================] - 0s 2ms/step\n",
      "10/10 [==============================] - 0s 2ms/step\n",
      "10/10 [==============================] - 0s 2ms/step\n",
      "10/10 [==============================] - 0s 2ms/step\n",
      "10/10 [==============================] - 0s 2ms/step\n",
      "10/10 [==============================] - 0s 1ms/step\n",
      "Mean of Mean Squared Errors (Normalized Data, 100 Epochs): 210.06913301633435\n",
      "Standard Deviation of Mean Squared Errors (Normalized Data, 100 Epochs): 38.80971681160351\n"
     ]
    }
   ],
   "source": [
    "from sklearn.preprocessing import StandardScaler\n",
    "from sklearn.model_selection import train_test_split\n",
    "from sklearn.metrics import mean_squared_error\n",
    "from keras.models import Sequential\n",
    "from keras.layers import Dense\n",
    "\n",
    "scaler = StandardScaler()\n",
    "X_train_normalized = scaler.fit_transform(X_train)\n",
    "X_test_normalized = scaler.transform(X_test)\n",
    "\n",
    "num_repetitions = 50\n",
    "\n",
    "mse_list_normalized_100_epochs = []\n",
    "\n",
    "for _ in range(num_repetitions):\n",
    "    model_normalized_100_epochs = Sequential()\n",
    "    model_normalized_100_epochs.add(Dense(10, activation='relu', input_shape=(X_train.shape[1],)))\n",
    "    model_normalized_100_epochs.add(Dense(1))\n",
    "    model_normalized_100_epochs.compile(optimizer='adam', loss='mean_squared_error')\n",
    "    \n",
    "    model_normalized_100_epochs.fit(X_train_normalized, y_train, validation_split=0.3, epochs=100, verbose=0)\n",
    "    \n",
    "    y_pred_normalized_100_epochs = model_normalized_100_epochs.predict(X_test_normalized)\n",
    "    \n",
    "    mse_normalized_100_epochs = mean_squared_error(y_test, y_pred_normalized_100_epochs)\n",
    "    mse_list_normalized_100_epochs.append(mse_normalized_100_epochs)\n",
    "\n",
    "mse_array_normalized_100_epochs = np.array(mse_list_normalized_100_epochs)\n",
    "\n",
    "mean_mse_normalized_100_epochs = np.mean(mse_array_normalized_100_epochs)\n",
    "std_mse_normalized_100_epochs = np.std(mse_array_normalized_100_epochs)\n",
    "\n",
    "print(f\"Mean of Mean Squared Errors (Normalized Data, 100 Epochs): {mean_mse_normalized_100_epochs}\")\n",
    "print(f\"Standard Deviation of Mean Squared Errors (Normalized Data, 100 Epochs): {std_mse_normalized_100_epochs}\")\n"
   ]
  },
  {
   "cell_type": "code",
   "execution_count": 24,
   "metadata": {},
   "outputs": [],
   "source": [
    "#PART D"
   ]
  },
  {
   "cell_type": "code",
   "execution_count": 25,
   "metadata": {},
   "outputs": [
    {
     "name": "stdout",
     "output_type": "stream",
     "text": [
      "10/10 [==============================] - 0s 831us/step\n",
      "10/10 [==============================] - 0s 2ms/step\n",
      "10/10 [==============================] - 0s 1ms/step\n",
      "10/10 [==============================] - 0s 2ms/step\n",
      "10/10 [==============================] - 0s 2ms/step\n",
      "10/10 [==============================] - 0s 1ms/step\n",
      "10/10 [==============================] - 0s 4ms/step\n",
      "10/10 [==============================] - 0s 1ms/step\n",
      "10/10 [==============================] - 0s 2ms/step\n",
      "10/10 [==============================] - 0s 1ms/step\n",
      "10/10 [==============================] - 0s 1ms/step\n",
      "10/10 [==============================] - 0s 1ms/step\n",
      "10/10 [==============================] - 0s 2ms/step\n",
      "10/10 [==============================] - 0s 1ms/step\n",
      "10/10 [==============================] - 0s 1ms/step\n",
      "10/10 [==============================] - 0s 1ms/step\n",
      "10/10 [==============================] - 0s 2ms/step\n",
      "10/10 [==============================] - 0s 1ms/step\n",
      "10/10 [==============================] - 0s 1ms/step\n",
      "10/10 [==============================] - 0s 2ms/step\n",
      "10/10 [==============================] - 0s 1ms/step\n",
      "10/10 [==============================] - 0s 1ms/step\n",
      "10/10 [==============================] - 0s 1ms/step\n",
      "10/10 [==============================] - 0s 1ms/step\n",
      "10/10 [==============================] - 0s 1ms/step\n",
      "10/10 [==============================] - 0s 1ms/step\n",
      "10/10 [==============================] - 0s 1ms/step\n",
      "10/10 [==============================] - 0s 2ms/step\n",
      "10/10 [==============================] - 0s 1ms/step\n",
      "10/10 [==============================] - 0s 2ms/step\n",
      "10/10 [==============================] - 0s 1ms/step\n",
      "10/10 [==============================] - 0s 2ms/step\n",
      "10/10 [==============================] - 0s 2ms/step\n",
      "10/10 [==============================] - 0s 2ms/step\n",
      "10/10 [==============================] - 0s 2ms/step\n",
      "10/10 [==============================] - 0s 2ms/step\n",
      "10/10 [==============================] - 0s 1ms/step\n",
      "10/10 [==============================] - 0s 1ms/step\n",
      "10/10 [==============================] - 0s 2ms/step\n",
      "10/10 [==============================] - 0s 1ms/step\n",
      "10/10 [==============================] - 0s 1ms/step\n",
      "10/10 [==============================] - 0s 1ms/step\n",
      "10/10 [==============================] - 0s 1ms/step\n",
      "10/10 [==============================] - 0s 1ms/step\n",
      "10/10 [==============================] - 0s 1ms/step\n",
      "10/10 [==============================] - 0s 2ms/step\n",
      "10/10 [==============================] - 0s 1ms/step\n",
      "10/10 [==============================] - 0s 1ms/step\n",
      "10/10 [==============================] - 0s 1ms/step\n",
      "10/10 [==============================] - 0s 1ms/step\n",
      "Mean of Mean Squared Errors (Three Hidden Layers): 142.2765169649477\n",
      "Standard Deviation of Mean Squared Errors (Three Hidden Layers): 9.3254679349466\n"
     ]
    }
   ],
   "source": [
    "from sklearn.preprocessing import StandardScaler\n",
    "from sklearn.model_selection import train_test_split\n",
    "from sklearn.metrics import mean_squared_error\n",
    "from keras.models import Sequential\n",
    "from keras.layers import Dense\n",
    "\n",
    "scaler = StandardScaler()\n",
    "X_train_normalized = scaler.fit_transform(X_train)\n",
    "X_test_normalized = scaler.transform(X_test)\n",
    "\n",
    "num_repetitions = 50\n",
    "\n",
    "mse_list_three_hidden_layers = []\n",
    "\n",
    "for _ in range(num_repetitions):\n",
    "    model_three_hidden_layers = Sequential()\n",
    "    model_three_hidden_layers.add(Dense(10, activation='relu', input_shape=(X_train.shape[1],)))\n",
    "    model_three_hidden_layers.add(Dense(10, activation='relu'))\n",
    "    model_three_hidden_layers.add(Dense(10, activation='relu'))\n",
    "    model_three_hidden_layers.add(Dense(1))\n",
    "    model_three_hidden_layers.compile(optimizer='adam', loss='mean_squared_error')\n",
    "    \n",
    "    model_three_hidden_layers.fit(X_train_normalized, y_train, validation_split=0.3, epochs=50, verbose=0)\n",
    "    \n",
    "    y_pred_three_hidden_layers = model_three_hidden_layers.predict(X_test_normalized)\n",
    "    \n",
    "    mse_three_hidden_layers = mean_squared_error(y_test, y_pred_three_hidden_layers)\n",
    "    mse_list_three_hidden_layers.append(mse_three_hidden_layers)\n",
    "\n",
    "mse_array_three_hidden_layers = np.array(mse_list_three_hidden_layers)\n",
    "\n",
    "mean_mse_three_hidden_layers = np.mean(mse_array_three_hidden_layers)\n",
    "std_mse_three_hidden_layers = np.std(mse_array_three_hidden_layers)\n",
    "\n",
    "print(f\"Mean of Mean Squared Errors (Three Hidden Layers): {mean_mse_three_hidden_layers}\")\n",
    "print(f\"Standard Deviation of Mean Squared Errors (Three Hidden Layers): {std_mse_three_hidden_layers}\")\n"
   ]
  }
 ],
 "metadata": {
  "kernelspec": {
   "display_name": "base",
   "language": "python",
   "name": "python3"
  },
  "language_info": {
   "codemirror_mode": {
    "name": "ipython",
    "version": 3
   },
   "file_extension": ".py",
   "mimetype": "text/x-python",
   "name": "python",
   "nbconvert_exporter": "python",
   "pygments_lexer": "ipython3",
   "version": "3.10.9"
  }
 },
 "nbformat": 4,
 "nbformat_minor": 4
}
